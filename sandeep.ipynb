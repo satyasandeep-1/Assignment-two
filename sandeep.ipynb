{
  "metadata": {
    "language_info": {
      "codemirror_mode": {
        "name": "python",
        "version": 3
      },
      "file_extension": ".py",
      "mimetype": "text/x-python",
      "name": "python",
      "nbconvert_exporter": "python",
      "pygments_lexer": "ipython3",
      "version": "3.8"
    },
    "kernelspec": {
      "name": "python",
      "display_name": "Python (Pyodide)",
      "language": "python"
    }
  },
  "nbformat_minor": 4,
  "nbformat": 4,
  "cells": [
    {
      "cell_type": "code",
      "source": "",
      "metadata": {
        "trusted": true
      },
      "execution_count": null,
      "outputs": []
    },
    {
      "cell_type": "code",
      "source": "# created the simple list \nsample_list=[1,2,3,3,3,3,4,5]\n\n# here defined the empty list \nunq_list=[]\n#using forloop we are getting the data from the simplelist and append into the empty list of unq_list \nfor i in sample_list:\n    if i not in unq_list:\n            unq_list.append(i)\n       \n        \nfor i in unq_list:\n    print(i)",
      "metadata": {
        "trusted": true
      },
      "execution_count": 10,
      "outputs": [
        {
          "name": "stdout",
          "text": "1\n2\n3\n4\n5\n",
          "output_type": "stream"
        }
      ]
    },
    {
      "cell_type": "code",
      "source": "#created the list here as my_list\nmy_list = [10, 20, 30, 40, 50, 60, 70, 80, 90, 100]\n# using forloop we are getting the data from the list created above and list we are geeting the odd index values using the substring method\nfor i in my_list[1::2]:\n    print(i, end=\" \")",
      "metadata": {
        "trusted": true
      },
      "execution_count": 4,
      "outputs": [
        {
          "name": "stdout",
          "text": "20 40 60 80 100 ",
          "output_type": "stream"
        }
      ]
    },
    {
      "cell_type": "code",
      "source": "# created the list here\nx = [23,'Python', 23.98]\n#use forloop we are defining the types here \nfor i in x:\n    print(type(i))",
      "metadata": {
        "trusted": true
      },
      "execution_count": 20,
      "outputs": [
        {
          "name": "stdout",
          "text": "<class 'int'>\n<class 'str'>\n<class 'float'>\n",
          "output_type": "stream"
        }
      ]
    },
    {
      "cell_type": "code",
      "source": "# here defing the method case \ndef case(Input_String):\n    upper_case =0\n    lower_case =0\n    #using else if we are calculating the uppercase and lower cse letters from the string\n    for i in Input_String:\n        if i.isupper():\n            upper_case+=1\n        elif i.islower():\n                lower_case+=1\n    print(upper_case)  \n    print(lower_case)\ncase( 'The quick Brow Fox')\n    \n                \n    ",
      "metadata": {
        "trusted": true
      },
      "execution_count": 24,
      "outputs": [
        {
          "name": "stdout",
          "text": "3\n12\n",
          "output_type": "stream"
        }
      ]
    },
    {
      "cell_type": "code",
      "source": "# using forloop we are calling the range here to print the star pyrmanid:\nfor i in range(1,5):\n    print(i* '*')\nfor i in range(5,0,-1):\n    print(i* '*')",
      "metadata": {
        "trusted": true
      },
      "execution_count": 34,
      "outputs": [
        {
          "name": "stdout",
          "text": "*\n**\n***\n****\n*****\n****\n***\n**\n*\n",
          "output_type": "stream"
        }
      ]
    },
    {
      "cell_type": "code",
      "source": "",
      "metadata": {},
      "execution_count": null,
      "outputs": []
    }
  ]
}